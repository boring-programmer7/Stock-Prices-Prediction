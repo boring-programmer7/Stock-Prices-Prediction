{
 "cells": [
  {
   "cell_type": "code",
   "execution_count": 1,
   "metadata": {},
   "outputs": [],
   "source": [
    "import json\n",
    "import pandas_datareader as web #Get data\n",
    "import numpy as np #Matrix operation\n",
    "import pandas as pd #Dataframes\n",
    "from sklearn.preprocessing import MinMaxScaler #Normalization\n",
    "import matplotlib.pyplot as plt #Graphs\n",
    "import datetime #Today's date\n",
    "from sklearn.metrics import mean_squared_error #RMSE ERROR\n",
    "from tensorflow.keras.models import load_model"
   ]
  },
  {
   "cell_type": "code",
   "execution_count": 2,
   "metadata": {},
   "outputs": [
    {
     "data": {
      "text/plain": [
       "{'corp': 'Facebook',\n",
       " 'name': 'FB',\n",
       " 'startTraining': '2015-01-01',\n",
       " 'endTraining': '2019-11-29',\n",
       " 'n_rows': 1236,\n",
       " 'model': 'FB.h5',\n",
       " 'rmse': 8.572490617347103}"
      ]
     },
     "execution_count": 2,
     "metadata": {},
     "output_type": "execute_result"
    }
   ],
   "source": [
    "#read Json file and choose one model\n",
    "\n",
    "with open('data.json') as json_file:\n",
    "    data = json.load(json_file)\n",
    "\n",
    "corp=\"Facebook\"\n",
    "stock=[model for model in data['models'] if model['corp']==corp][0]\n",
    "stock"
   ]
  },
  {
   "cell_type": "code",
   "execution_count": 3,
   "metadata": {},
   "outputs": [
    {
     "data": {
      "text/html": [
       "<div>\n",
       "<style scoped>\n",
       "    .dataframe tbody tr th:only-of-type {\n",
       "        vertical-align: middle;\n",
       "    }\n",
       "\n",
       "    .dataframe tbody tr th {\n",
       "        vertical-align: top;\n",
       "    }\n",
       "\n",
       "    .dataframe thead th {\n",
       "        text-align: right;\n",
       "    }\n",
       "</style>\n",
       "<table border=\"1\" class=\"dataframe\">\n",
       "  <thead>\n",
       "    <tr style=\"text-align: right;\">\n",
       "      <th></th>\n",
       "      <th>High</th>\n",
       "      <th>Low</th>\n",
       "      <th>Open</th>\n",
       "      <th>Close</th>\n",
       "      <th>Volume</th>\n",
       "      <th>Adj Close</th>\n",
       "    </tr>\n",
       "    <tr>\n",
       "      <th>Date</th>\n",
       "      <th></th>\n",
       "      <th></th>\n",
       "      <th></th>\n",
       "      <th></th>\n",
       "      <th></th>\n",
       "      <th></th>\n",
       "    </tr>\n",
       "  </thead>\n",
       "  <tbody>\n",
       "    <tr>\n",
       "      <th>2021-02-17</th>\n",
       "      <td>273.970001</td>\n",
       "      <td>269.579987</td>\n",
       "      <td>271.239990</td>\n",
       "      <td>273.570007</td>\n",
       "      <td>12749500</td>\n",
       "      <td>273.570007</td>\n",
       "    </tr>\n",
       "    <tr>\n",
       "      <th>2021-02-18</th>\n",
       "      <td>271.950012</td>\n",
       "      <td>266.029999</td>\n",
       "      <td>269.570007</td>\n",
       "      <td>269.390015</td>\n",
       "      <td>15221400</td>\n",
       "      <td>269.390015</td>\n",
       "    </tr>\n",
       "    <tr>\n",
       "      <th>2021-02-19</th>\n",
       "      <td>270.269989</td>\n",
       "      <td>260.149994</td>\n",
       "      <td>269.859985</td>\n",
       "      <td>261.559998</td>\n",
       "      <td>25549900</td>\n",
       "      <td>261.559998</td>\n",
       "    </tr>\n",
       "    <tr>\n",
       "      <th>2021-02-22</th>\n",
       "      <td>263.070007</td>\n",
       "      <td>257.529999</td>\n",
       "      <td>257.950012</td>\n",
       "      <td>260.329987</td>\n",
       "      <td>17382300</td>\n",
       "      <td>260.329987</td>\n",
       "    </tr>\n",
       "    <tr>\n",
       "      <th>2021-02-23</th>\n",
       "      <td>265.619995</td>\n",
       "      <td>254.960007</td>\n",
       "      <td>259.500000</td>\n",
       "      <td>262.410004</td>\n",
       "      <td>12491943</td>\n",
       "      <td>262.410004</td>\n",
       "    </tr>\n",
       "  </tbody>\n",
       "</table>\n",
       "</div>"
      ],
      "text/plain": [
       "                  High         Low        Open       Close    Volume  \\\n",
       "Date                                                                   \n",
       "2021-02-17  273.970001  269.579987  271.239990  273.570007  12749500   \n",
       "2021-02-18  271.950012  266.029999  269.570007  269.390015  15221400   \n",
       "2021-02-19  270.269989  260.149994  269.859985  261.559998  25549900   \n",
       "2021-02-22  263.070007  257.529999  257.950012  260.329987  17382300   \n",
       "2021-02-23  265.619995  254.960007  259.500000  262.410004  12491943   \n",
       "\n",
       "             Adj Close  \n",
       "Date                    \n",
       "2021-02-17  273.570007  \n",
       "2021-02-18  269.390015  \n",
       "2021-02-19  261.559998  \n",
       "2021-02-22  260.329987  \n",
       "2021-02-23  262.410004  "
      ]
     },
     "execution_count": 3,
     "metadata": {},
     "output_type": "execute_result"
    }
   ],
   "source": [
    "#Testing the model in real time data\n",
    "#Get the data of Corp choosed. Using yahoo finance as source and last 5 years\n",
    "\n",
    "today=datetime.datetime.now().strftime(\"%Y-%m-%d\")\n",
    "df=web.DataReader(stock['name'],\n",
    "                  data_source='yahoo',\n",
    "                  start=stock['startTraining'],\n",
    "                  end=today)\n",
    "df.tail()"
   ]
  },
  {
   "cell_type": "code",
   "execution_count": 4,
   "metadata": {},
   "outputs": [],
   "source": [
    "#load Keras Model\n",
    "model=load_model(f\"models/{stock['model']}\")"
   ]
  },
  {
   "cell_type": "code",
   "execution_count": 5,
   "metadata": {},
   "outputs": [
    {
     "data": {
      "text/html": [
       "<div>\n",
       "<style scoped>\n",
       "    .dataframe tbody tr th:only-of-type {\n",
       "        vertical-align: middle;\n",
       "    }\n",
       "\n",
       "    .dataframe tbody tr th {\n",
       "        vertical-align: top;\n",
       "    }\n",
       "\n",
       "    .dataframe thead th {\n",
       "        text-align: right;\n",
       "    }\n",
       "</style>\n",
       "<table border=\"1\" class=\"dataframe\">\n",
       "  <thead>\n",
       "    <tr style=\"text-align: right;\">\n",
       "      <th></th>\n",
       "      <th>Close</th>\n",
       "    </tr>\n",
       "    <tr>\n",
       "      <th>Date</th>\n",
       "      <th></th>\n",
       "    </tr>\n",
       "  </thead>\n",
       "  <tbody>\n",
       "    <tr>\n",
       "      <th>2019-09-05</th>\n",
       "      <td>190.899994</td>\n",
       "    </tr>\n",
       "    <tr>\n",
       "      <th>2019-09-06</th>\n",
       "      <td>187.490005</td>\n",
       "    </tr>\n",
       "    <tr>\n",
       "      <th>2019-09-09</th>\n",
       "      <td>188.759995</td>\n",
       "    </tr>\n",
       "    <tr>\n",
       "      <th>2019-09-10</th>\n",
       "      <td>186.169998</td>\n",
       "    </tr>\n",
       "    <tr>\n",
       "      <th>2019-09-11</th>\n",
       "      <td>188.490005</td>\n",
       "    </tr>\n",
       "    <tr>\n",
       "      <th>...</th>\n",
       "      <td>...</td>\n",
       "    </tr>\n",
       "    <tr>\n",
       "      <th>2021-02-17</th>\n",
       "      <td>273.570007</td>\n",
       "    </tr>\n",
       "    <tr>\n",
       "      <th>2021-02-18</th>\n",
       "      <td>269.390015</td>\n",
       "    </tr>\n",
       "    <tr>\n",
       "      <th>2021-02-19</th>\n",
       "      <td>261.559998</td>\n",
       "    </tr>\n",
       "    <tr>\n",
       "      <th>2021-02-22</th>\n",
       "      <td>260.329987</td>\n",
       "    </tr>\n",
       "    <tr>\n",
       "      <th>2021-02-23</th>\n",
       "      <td>262.410004</td>\n",
       "    </tr>\n",
       "  </tbody>\n",
       "</table>\n",
       "<p>370 rows × 1 columns</p>\n",
       "</div>"
      ],
      "text/plain": [
       "                 Close\n",
       "Date                  \n",
       "2019-09-05  190.899994\n",
       "2019-09-06  187.490005\n",
       "2019-09-09  188.759995\n",
       "2019-09-10  186.169998\n",
       "2019-09-11  188.490005\n",
       "...                ...\n",
       "2021-02-17  273.570007\n",
       "2021-02-18  269.390015\n",
       "2021-02-19  261.559998\n",
       "2021-02-22  260.329987\n",
       "2021-02-23  262.410004\n",
       "\n",
       "[370 rows x 1 columns]"
      ]
     },
     "execution_count": 5,
     "metadata": {},
     "output_type": "execute_result"
    }
   ],
   "source": [
    "#predict prices after training an test data (realtime)\n",
    "\n",
    "df2=df.reset_index()\n",
    "n_rows=df2.loc[df2['Date']==stock['endTraining']].index[0]\n",
    "data=df[n_rows-60:].filter(['Close'])\n",
    "data"
   ]
  },
  {
   "cell_type": "code",
   "execution_count": 6,
   "metadata": {},
   "outputs": [
    {
     "data": {
      "text/plain": [
       "(310, 1)"
      ]
     },
     "execution_count": 6,
     "metadata": {},
     "output_type": "execute_result"
    }
   ],
   "source": [
    "#Y values (real values)\n",
    "y=data[60:]\n",
    "y=np.array(y)\n",
    "y.shape"
   ]
  },
  {
   "cell_type": "code",
   "execution_count": 7,
   "metadata": {},
   "outputs": [],
   "source": [
    "#MinMax Scaler for x matrix\n",
    "scaler=MinMaxScaler(feature_range=(0,1))\n",
    "scaled_x=scaler.fit_transform(data)"
   ]
  },
  {
   "cell_type": "code",
   "execution_count": 8,
   "metadata": {},
   "outputs": [],
   "source": [
    "#x values (last 60 days)\n",
    "x=[]\n",
    "for i in range(60,len(scaled_x)):\n",
    "    x.append(scaled_x[i-60:i,0])\n",
    "x=np.array(x)"
   ]
  },
  {
   "cell_type": "code",
   "execution_count": 9,
   "metadata": {},
   "outputs": [
    {
     "data": {
      "text/plain": [
       "(array([0.8290691 , 0.82064594, 0.83470548, 0.82938568, 0.8900569 ,\n",
       "        0.89620004, 0.86029135, 0.84667517, 0.88391377, 0.87010761,\n",
       "        0.83540222, 0.83033561, 0.80772632, 0.81177961, 0.82039256,\n",
       "        0.8211527 , 0.81361627, 0.82577576, 0.80291328, 0.76681441,\n",
       "        0.77327412, 0.76877766, 0.82957567, 0.82818237, 0.79708672,\n",
       "        0.8052565 , 0.77853072, 0.79138695, 0.74287521, 0.77726402,\n",
       "        0.76985437, 0.70189991, 0.66548446, 0.66896769, 0.63096896,\n",
       "        0.66719443, 0.72887907, 0.76928442, 0.80341984, 0.81374286,\n",
       "        0.83597218, 0.86155786, 0.79879679, 0.75357821, 0.7113362 ,\n",
       "        0.73464223, 0.76675101, 0.76402782, 0.76301449, 0.77321092,\n",
       "        0.76358445, 0.78176067, 0.79708672, 0.78771382, 0.78841038,\n",
       "        0.81038632, 0.80785311, 0.7813807 , 0.73179225, 0.72400244]),\n",
       " array([262.41000366]))"
      ]
     },
     "execution_count": 9,
     "metadata": {},
     "output_type": "execute_result"
    }
   ],
   "source": [
    "x[-1],y[-1]"
   ]
  },
  {
   "cell_type": "code",
   "execution_count": 10,
   "metadata": {},
   "outputs": [
    {
     "data": {
      "text/plain": [
       "(310, 60, 1)"
      ]
     },
     "execution_count": 10,
     "metadata": {},
     "output_type": "execute_result"
    }
   ],
   "source": [
    "#Reshape\n",
    "x=np.reshape(x,(x.shape[0],x.shape[1],1))\n",
    "x.shape"
   ]
  },
  {
   "cell_type": "code",
   "execution_count": 11,
   "metadata": {},
   "outputs": [
    {
     "data": {
      "text/html": [
       "<div>\n",
       "<style scoped>\n",
       "    .dataframe tbody tr th:only-of-type {\n",
       "        vertical-align: middle;\n",
       "    }\n",
       "\n",
       "    .dataframe tbody tr th {\n",
       "        vertical-align: top;\n",
       "    }\n",
       "\n",
       "    .dataframe thead th {\n",
       "        text-align: right;\n",
       "    }\n",
       "</style>\n",
       "<table border=\"1\" class=\"dataframe\">\n",
       "  <thead>\n",
       "    <tr style=\"text-align: right;\">\n",
       "      <th></th>\n",
       "      <th>Close</th>\n",
       "      <th>Predictions</th>\n",
       "    </tr>\n",
       "    <tr>\n",
       "      <th>Date</th>\n",
       "      <th></th>\n",
       "      <th></th>\n",
       "    </tr>\n",
       "  </thead>\n",
       "  <tbody>\n",
       "    <tr>\n",
       "      <th>2021-02-09</th>\n",
       "      <td>269.450012</td>\n",
       "      <td>264.085999</td>\n",
       "    </tr>\n",
       "    <tr>\n",
       "      <th>2021-02-10</th>\n",
       "      <td>271.869995</td>\n",
       "      <td>266.751831</td>\n",
       "    </tr>\n",
       "    <tr>\n",
       "      <th>2021-02-11</th>\n",
       "      <td>270.390015</td>\n",
       "      <td>269.115845</td>\n",
       "    </tr>\n",
       "    <tr>\n",
       "      <th>2021-02-12</th>\n",
       "      <td>270.500000</td>\n",
       "      <td>267.565643</td>\n",
       "    </tr>\n",
       "    <tr>\n",
       "      <th>2021-02-16</th>\n",
       "      <td>273.970001</td>\n",
       "      <td>267.448578</td>\n",
       "    </tr>\n",
       "    <tr>\n",
       "      <th>2021-02-17</th>\n",
       "      <td>273.570007</td>\n",
       "      <td>270.769318</td>\n",
       "    </tr>\n",
       "    <tr>\n",
       "      <th>2021-02-18</th>\n",
       "      <td>269.390015</td>\n",
       "      <td>270.393738</td>\n",
       "    </tr>\n",
       "    <tr>\n",
       "      <th>2021-02-19</th>\n",
       "      <td>261.559998</td>\n",
       "      <td>266.156067</td>\n",
       "    </tr>\n",
       "    <tr>\n",
       "      <th>2021-02-22</th>\n",
       "      <td>260.329987</td>\n",
       "      <td>258.327759</td>\n",
       "    </tr>\n",
       "    <tr>\n",
       "      <th>2021-02-23</th>\n",
       "      <td>262.410004</td>\n",
       "      <td>257.112915</td>\n",
       "    </tr>\n",
       "  </tbody>\n",
       "</table>\n",
       "</div>"
      ],
      "text/plain": [
       "                 Close  Predictions\n",
       "Date                               \n",
       "2021-02-09  269.450012   264.085999\n",
       "2021-02-10  271.869995   266.751831\n",
       "2021-02-11  270.390015   269.115845\n",
       "2021-02-12  270.500000   267.565643\n",
       "2021-02-16  273.970001   267.448578\n",
       "2021-02-17  273.570007   270.769318\n",
       "2021-02-18  269.390015   270.393738\n",
       "2021-02-19  261.559998   266.156067\n",
       "2021-02-22  260.329987   258.327759\n",
       "2021-02-23  262.410004   257.112915"
      ]
     },
     "execution_count": 11,
     "metadata": {},
     "output_type": "execute_result"
    }
   ],
   "source": [
    "#Get predicted scaled prices\n",
    "pred_price=model.predict(x)\n",
    "predictions=scaler.inverse_transform(pred_price)\n",
    "_df=df[n_rows:].filter(['Close'])\n",
    "_df['Predictions']=predictions\n",
    "_df.tail(10)"
   ]
  },
  {
   "cell_type": "code",
   "execution_count": 12,
   "metadata": {},
   "outputs": [
    {
     "data": {
      "text/plain": [
       "6.2882840221583765"
      ]
     },
     "execution_count": 12,
     "metadata": {},
     "output_type": "execute_result"
    }
   ],
   "source": [
    "#RMSE using ScikitLearn\n",
    "rmse=mean_squared_error(_df['Close'],_df['Predictions'],squared=False)\n",
    "rmse"
   ]
  },
  {
   "cell_type": "code",
   "execution_count": 13,
   "metadata": {},
   "outputs": [
    {
     "data": {
      "text/plain": [
       "array([[259.61072]], dtype=float32)"
      ]
     },
     "execution_count": 13,
     "metadata": {},
     "output_type": "execute_result"
    }
   ],
   "source": [
    "#Predict Tomorrow price\n",
    "xt=scaled_x[-60:]\n",
    "xt=np.reshape(xt,(1,60,1))\n",
    "yt1=scaler.inverse_transform(model.predict(xt))\n",
    "yt1"
   ]
  },
  {
   "cell_type": "code",
   "execution_count": 20,
   "metadata": {},
   "outputs": [
    {
     "data": {
      "image/png": "[encoded data removed]",
      "text/plain": [
       "<Figure size 1152x432 with 1 Axes>"
      ]
     },
     "metadata": {
      "needs_background": "light"
     },
     "output_type": "display_data"
    }
   ],
   "source": [
    "#PLot data and predictions\n",
    "fig=plt.figure(figsize=(16,6))\n",
    "plt.title(f\"Model Prediction {corp}\",fontsize=18)\n",
    "plt.xlabel('Date',fontsize=14)\n",
    "plt.ylabel(\"Close Price $USD\",fontsize=14)\n",
    "plt.plot(df[:n_rows]['Close'])\n",
    "plt.plot(_df[['Close','Predictions']])\n",
    "plt.legend(['Train','Value','Predictions'])\n",
    "plt.show()"
   ]
  }
 ],
 "metadata": {
  "kernelspec": {
   "display_name": "Python 3",
   "language": "python",
   "name": "python3"
  },
  "language_info": {
   "codemirror_mode": {
    "name": "ipython",
    "version": 3
   },
   "file_extension": ".py",
   "mimetype": "text/x-python",
   "name": "python",
   "nbconvert_exporter": "python",
   "pygments_lexer": "ipython3",
   "version": "3.6.8"
  }
 },
 "nbformat": 4,
 "nbformat_minor": 4
}
