{
 "cells": [
  {
   "cell_type": "markdown",
   "metadata": {},
   "source": [
    "# Predict Closing Stock Price of an Action using LSTM Model"
   ]
  },
  {
   "cell_type": "markdown",
   "metadata": {},
   "source": [
    "Using the past 60 days of data the model will predict the next closing price."
   ]
  },
  {
   "cell_type": "code",
   "execution_count": 47,
   "metadata": {},
   "outputs": [],
   "source": [
    "import math #Math Operations\n",
    "import pandas_datareader as web #Get data\n",
    "import numpy as np #Matrix operation\n",
    "import pandas as pd #Dataframes\n",
    "from sklearn.preprocessing import MinMaxScaler #Normalization\n",
    "from tensorflow.keras.models import Sequential #Deep Learning Model\n",
    "from tensorflow.keras.layers import Dense, LSTM #LSTM Model\n",
    "import matplotlib.pyplot as plt #Graphs\n",
    "import datetime #Today's date\n",
    "from sklearn.metrics import mean_squared_error #RMSE ERROR"
   ]
  },
  {
   "cell_type": "code",
   "execution_count": 48,
   "metadata": {},
   "outputs": [
    {
     "data": {
      "text/html": [
       "<div>\n",
       "<style scoped>\n",
       "    .dataframe tbody tr th:only-of-type {\n",
       "        vertical-align: middle;\n",
       "    }\n",
       "\n",
       "    .dataframe tbody tr th {\n",
       "        vertical-align: top;\n",
       "    }\n",
       "\n",
       "    .dataframe thead th {\n",
       "        text-align: right;\n",
       "    }\n",
       "</style>\n",
       "<table border=\"1\" class=\"dataframe\">\n",
       "  <thead>\n",
       "    <tr style=\"text-align: right;\">\n",
       "      <th></th>\n",
       "      <th>High</th>\n",
       "      <th>Low</th>\n",
       "      <th>Open</th>\n",
       "      <th>Close</th>\n",
       "      <th>Volume</th>\n",
       "      <th>Adj Close</th>\n",
       "    </tr>\n",
       "    <tr>\n",
       "      <th>Date</th>\n",
       "      <th></th>\n",
       "      <th></th>\n",
       "      <th></th>\n",
       "      <th></th>\n",
       "      <th></th>\n",
       "      <th></th>\n",
       "    </tr>\n",
       "  </thead>\n",
       "  <tbody>\n",
       "    <tr>\n",
       "      <th>2021-02-17</th>\n",
       "      <td>2133.659912</td>\n",
       "      <td>2098.919922</td>\n",
       "      <td>2100.000000</td>\n",
       "      <td>2128.310059</td>\n",
       "      <td>1070100.0</td>\n",
       "      <td>2128.310059</td>\n",
       "    </tr>\n",
       "    <tr>\n",
       "      <th>2021-02-18</th>\n",
       "      <td>2132.735107</td>\n",
       "      <td>2103.709961</td>\n",
       "      <td>2110.389893</td>\n",
       "      <td>2117.199951</td>\n",
       "      <td>1121600.0</td>\n",
       "      <td>2117.199951</td>\n",
       "    </tr>\n",
       "    <tr>\n",
       "      <th>2021-02-19</th>\n",
       "      <td>2130.530029</td>\n",
       "      <td>2097.409912</td>\n",
       "      <td>2119.270020</td>\n",
       "      <td>2101.139893</td>\n",
       "      <td>1457400.0</td>\n",
       "      <td>2101.139893</td>\n",
       "    </tr>\n",
       "    <tr>\n",
       "      <th>2021-02-22</th>\n",
       "      <td>2091.419922</td>\n",
       "      <td>2062.139893</td>\n",
       "      <td>2067.000000</td>\n",
       "      <td>2064.879883</td>\n",
       "      <td>1366200.0</td>\n",
       "      <td>2064.879883</td>\n",
       "    </tr>\n",
       "    <tr>\n",
       "      <th>2021-02-23</th>\n",
       "      <td>2082.010010</td>\n",
       "      <td>2002.020020</td>\n",
       "      <td>2025.010010</td>\n",
       "      <td>2070.860107</td>\n",
       "      <td>1621538.0</td>\n",
       "      <td>2070.860107</td>\n",
       "    </tr>\n",
       "  </tbody>\n",
       "</table>\n",
       "</div>"
      ],
      "text/plain": [
       "                   High          Low         Open        Close     Volume  \\\n",
       "Date                                                                        \n",
       "2021-02-17  2133.659912  2098.919922  2100.000000  2128.310059  1070100.0   \n",
       "2021-02-18  2132.735107  2103.709961  2110.389893  2117.199951  1121600.0   \n",
       "2021-02-19  2130.530029  2097.409912  2119.270020  2101.139893  1457400.0   \n",
       "2021-02-22  2091.419922  2062.139893  2067.000000  2064.879883  1366200.0   \n",
       "2021-02-23  2082.010010  2002.020020  2025.010010  2070.860107  1621538.0   \n",
       "\n",
       "              Adj Close  \n",
       "Date                     \n",
       "2021-02-17  2128.310059  \n",
       "2021-02-18  2117.199951  \n",
       "2021-02-19  2101.139893  \n",
       "2021-02-22  2064.879883  \n",
       "2021-02-23  2070.860107  "
      ]
     },
     "execution_count": 48,
     "metadata": {},
     "output_type": "execute_result"
    }
   ],
   "source": [
    "#Get the data of Apple Corp. Using yahoo finance as source and last 5 years\n",
    "\n",
    "corp=\"Google\"\n",
    "name='GOOG'\n",
    "today=datetime.datetime.now().strftime(\"%Y-%m-%d\")\n",
    "df=web.DataReader(name,\n",
    "                  data_source='yahoo',\n",
    "                  start=\"2015-01-01\",\n",
    "                  end=today)\n",
    "df.tail()"
   ]
  },
  {
   "cell_type": "code",
   "execution_count": 49,
   "metadata": {},
   "outputs": [
    {
     "data": {
      "image/png": "[encoded data removed]",
      "text/plain": [
       "<Figure size 1152x432 with 1 Axes>"
      ]
     },
     "metadata": {
      "needs_background": "light"
     },
     "output_type": "display_data"
    }
   ],
   "source": [
    "#Plot of closing Price\n",
    "ax=df['Close'].plot(figsize=(16,6),title=f\"Closing Price {corp}\",\n",
    "                   xlabel=\"Date\",ylabel=\"Close Price $USD\")"
   ]
  },
  {
   "cell_type": "code",
   "execution_count": 50,
   "metadata": {},
   "outputs": [
    {
     "data": {
      "text/plain": [
       "(1546, 6)"
      ]
     },
     "execution_count": 50,
     "metadata": {},
     "output_type": "execute_result"
    }
   ],
   "source": [
    "#Shape of dataframe\n",
    "df.shape"
   ]
  },
  {
   "cell_type": "code",
   "execution_count": 51,
   "metadata": {},
   "outputs": [
    {
     "data": {
      "text/plain": [
       "1236"
      ]
     },
     "execution_count": 51,
     "metadata": {},
     "output_type": "execute_result"
    }
   ],
   "source": [
    "#Split train dataset and testing.Training (80%). Test (20%)\n",
    "dataset=df.filter(['Close']).values\n",
    "#n rows to train\n",
    "n_rows=int(math.ceil(len(dataset))*.8)\n",
    "n_rows"
   ]
  },
  {
   "cell_type": "code",
   "execution_count": 52,
   "metadata": {},
   "outputs": [
    {
     "data": {
      "text/plain": [
       "'2019-11-29'"
      ]
     },
     "execution_count": 52,
     "metadata": {},
     "output_type": "execute_result"
    }
   ],
   "source": [
    "#Till this date the model is training after is testing\n",
    "endTraining=df.iloc[n_rows].name.strftime(\"%Y-%m-%d\")\n",
    "endTraining"
   ]
  },
  {
   "cell_type": "code",
   "execution_count": 53,
   "metadata": {},
   "outputs": [
    {
     "data": {
      "text/plain": [
       "array([[0.01965153],\n",
       "       [0.01298729],\n",
       "       [0.00573219],\n",
       "       ...,\n",
       "       [0.98340357],\n",
       "       [0.96125475],\n",
       "       [0.96490767]])"
      ]
     },
     "execution_count": 53,
     "metadata": {},
     "output_type": "execute_result"
    }
   ],
   "source": [
    "#Preprocessing data -> scaler [0,1] closing price 1 max value. 0 Min Value\n",
    "\n",
    "scaler=MinMaxScaler(feature_range=(0,1))\n",
    "scaled_data=scaler.fit_transform(dataset)\n",
    "scaled_data"
   ]
  },
  {
   "cell_type": "code",
   "execution_count": 54,
   "metadata": {},
   "outputs": [],
   "source": [
    "#Create the train dataset\n",
    "train_data=scaled_data[0:n_rows,:]"
   ]
  },
  {
   "cell_type": "code",
   "execution_count": 55,
   "metadata": {},
   "outputs": [
    {
     "name": "stdout",
     "output_type": "stream",
     "text": [
      "[array([0.01965153, 0.01298729, 0.00573219, 0.00520832, 0.0061708 ,\n",
      "       0.00220515, 0.        , 0.00221125, 0.00506821, 0.00562864,\n",
      "       0.00946025, 0.00874145, 0.01552751, 0.02548725, 0.0288742 ,\n",
      "       0.0259868 , 0.01588692, 0.01062985, 0.01103189, 0.02556648,\n",
      "       0.02188713, 0.0223501 , 0.01840272, 0.02133889, 0.02342222,\n",
      "       0.02149119, 0.02704062, 0.02644973, 0.03068951, 0.03439321,\n",
      "       0.03063467, 0.0287219 , 0.03065294, 0.02826504, 0.02397654,\n",
      "       0.02652284, 0.03126213, 0.03833447, 0.04011321, 0.04799576,\n",
      "       0.04939683, 0.04923234, 0.05042631, 0.04576927, 0.04647893,\n",
      "       0.03804818, 0.03571509, 0.03835274, 0.03336373, 0.03774358,\n",
      "       0.03550795, 0.04078328, 0.03986345, 0.04130717, 0.04036296,\n",
      "       0.04729523, 0.04034775, 0.03814563, 0.03398508, 0.03623287]), array([0.01298729, 0.00573219, 0.00520832, 0.0061708 , 0.00220515,\n",
      "       0.        , 0.00221125, 0.00506821, 0.00562864, 0.00946025,\n",
      "       0.00874145, 0.01552751, 0.02548725, 0.0288742 , 0.0259868 ,\n",
      "       0.01588692, 0.01062985, 0.01103189, 0.02556648, 0.02188713,\n",
      "       0.0223501 , 0.01840272, 0.02133889, 0.02342222, 0.02149119,\n",
      "       0.02704062, 0.02644973, 0.03068951, 0.03439321, 0.03063467,\n",
      "       0.0287219 , 0.03065294, 0.02826504, 0.02397654, 0.02652284,\n",
      "       0.03126213, 0.03833447, 0.04011321, 0.04799576, 0.04939683,\n",
      "       0.04923234, 0.05042631, 0.04576927, 0.04647893, 0.03804818,\n",
      "       0.03571509, 0.03835274, 0.03336373, 0.03774358, 0.03550795,\n",
      "       0.04078328, 0.03986345, 0.04130717, 0.04036296, 0.04729523,\n",
      "       0.04034775, 0.03814563, 0.03398508, 0.03623287, 0.03377794])]\n",
      "[0.03377793953319891, 0.030464103345309912]\n"
     ]
    }
   ],
   "source": [
    "#Split train dataset into X and y\n",
    "\n",
    "def split_x_and_y_train(train_data):\n",
    "    \"\"\"\n",
    "\n",
    "    Using the last 60 days, we predict the present value (xt)\n",
    "\n",
    "    X[t]=[xt-60,xt-59,...,xt-1]\n",
    "    y[t]=xt\n",
    "\n",
    "    X[t+1]=[xt-59,xt-58,..,xt-1,xt]\n",
    "    y[t]=xt+1\n",
    "\n",
    "    t=0 to len(train_data)\n",
    "\n",
    "    \"\"\"\n",
    "    x_train=[]\n",
    "    y_train=[]\n",
    "\n",
    "    for i in range(60,len(train_data)):\n",
    "        x_values=train_data[i-60:i,0]\n",
    "        x_train.append(x_values)\n",
    "        y_train.append(train_data[i,0])\n",
    "        #Visualize first x_train and y_train\n",
    "        if i==61:\n",
    "            print(x_train)\n",
    "            print(y_train)\n",
    "    return np.array(x_train),np.array(y_train)\n",
    "\n",
    "x_train,y_train=split_x_and_y_train(train_data)"
   ]
  },
  {
   "cell_type": "code",
   "execution_count": 56,
   "metadata": {},
   "outputs": [
    {
     "data": {
      "text/plain": [
       "((1176, 60), (1176,))"
      ]
     },
     "execution_count": 56,
     "metadata": {},
     "output_type": "execute_result"
    }
   ],
   "source": [
    "#Check shapes of training datasets\n",
    "x_train.shape,y_train.shape"
   ]
  },
  {
   "cell_type": "code",
   "execution_count": 57,
   "metadata": {},
   "outputs": [
    {
     "data": {
      "text/plain": [
       "(1176, 60, 1)"
      ]
     },
     "execution_count": 57,
     "metadata": {},
     "output_type": "execute_result"
    }
   ],
   "source": [
    "#Reshape to 3 dimmension tensor for lstm model\n",
    "x_train=np.reshape(x_train,(x_train.shape[0],x_train.shape[1],1))\n",
    "x_train.shape"
   ]
  },
  {
   "cell_type": "code",
   "execution_count": 58,
   "metadata": {},
   "outputs": [],
   "source": [
    "#Build the LSTM model\n",
    "\n",
    "model=Sequential()\n",
    "model.add(\n",
    "    LSTM(100,\n",
    "         return_sequences=True,\n",
    "         input_shape=(x_train.shape[1],1))) #100 neurons first lstm layer return true because next later is a lstm too\n",
    "model.add(LSTM(50,return_sequences=False))  #50 neurons first lstm layer return false because next later is not a lstm\n",
    "model.add(Dense(25)) #Layer of 25 neurons full connected\n",
    "model.add(Dense(1)) #1 output (predicted value)\n",
    "\n",
    "#Compile the model\n",
    "model.compile(optimizer='adam',loss=\"mean_squared_error\")"
   ]
  },
  {
   "cell_type": "code",
   "execution_count": null,
   "metadata": {},
   "outputs": [
    {
     "name": "stdout",
     "output_type": "stream",
     "text": [
      "Epoch 1/10\n",
      "236/236 [==============================] - 16s 26ms/step - loss: 0.0044\n",
      "Epoch 2/10\n",
      "236/236 [==============================] - 6s 25ms/step - loss: 4.2348e-04\n",
      "Epoch 3/10\n",
      "236/236 [==============================] - 6s 25ms/step - loss: 3.1095e-04\n",
      "Epoch 4/10\n",
      "236/236 [==============================] - 6s 25ms/step - loss: 3.0365e-04\n",
      "Epoch 5/10\n",
      "236/236 [==============================] - 6s 25ms/step - loss: 2.4164e-04\n",
      "Epoch 6/10\n",
      "236/236 [==============================] - 6s 26ms/step - loss: 1.8935e-04\n",
      "Epoch 7/10\n",
      "236/236 [==============================] - 6s 26ms/step - loss: 1.8379e-04\n",
      "Epoch 8/10\n",
      "112/236 [=============>................] - ETA: 3s - loss: 1.8417e-04"
     ]
    }
   ],
   "source": [
    "#Train the model\n",
    "\n",
    "batch_size=5 #Total data examples/batch_size -> data model gonna see in each epoch\n",
    "epochs=10 #Number iterations \n",
    "\n",
    "model.fit(x_train,y_train,batch_size=batch_size,epochs=epochs)"
   ]
  },
  {
   "cell_type": "code",
   "execution_count": null,
   "metadata": {},
   "outputs": [],
   "source": [
    "#Test the Model\n",
    "\n",
    "#Create the testing dataset\n",
    "\n",
    "test_data=scaled_data[n_rows-60:,:] #Rest 60 to get y value from first point\n",
    "\n",
    "#Get x_test, y_test\n",
    "x_test,y_test=split_x_and_y_train(test_data)\n",
    "y_test=dataset[n_rows:,:]\n",
    "\n",
    "\n",
    "#Reshape x_test\n",
    "x_test=np.reshape(x_test,(x_test.shape[0],x_test.shape[1],1))\n",
    "x_test.shape,y_test.shape"
   ]
  },
  {
   "cell_type": "code",
   "execution_count": null,
   "metadata": {},
   "outputs": [],
   "source": [
    "#Get the predicted closing price values\n",
    "\n",
    "predictions=model.predict(x_test)\n",
    "predictions=scaler.inverse_transform(predictions)"
   ]
  },
  {
   "cell_type": "code",
   "execution_count": null,
   "metadata": {},
   "outputs": [],
   "source": [
    "#Evaluate the model using the root mean squared error (RMSE)"
   ]
  },
  {
   "cell_type": "markdown",
   "metadata": {},
   "source": [
    "<img src=\"https://media.geeksforgeeks.org/wp-content/uploads/20200622171741/RMSE1.jpg\" />"
   ]
  },
  {
   "cell_type": "code",
   "execution_count": null,
   "metadata": {},
   "outputs": [],
   "source": [
    "#RMSE Using ScikitLearn\n",
    "rmse=mean_squared_error(y_test,predictions,squared=False)\n",
    "rmse"
   ]
  },
  {
   "cell_type": "code",
   "execution_count": null,
   "metadata": {},
   "outputs": [],
   "source": [
    "#Let's see the data and predictions\n",
    "data=df.filter(['Close'])\n",
    "train=data[:n_rows]\n",
    "valid=data[n_rows:]\n",
    "valid['Predictions']=predictions\n",
    "valid"
   ]
  },
  {
   "cell_type": "code",
   "execution_count": null,
   "metadata": {},
   "outputs": [],
   "source": [
    "#PLot data and predictions\n",
    "plt.figure(figsize=(16,6))\n",
    "plt.title(f\"Model Prediction {corp}\",fontsize=18)\n",
    "plt.xlabel('Date',fontsize=14)\n",
    "plt.ylabel(\"Close Price $USD\",fontsize=14)\n",
    "plt.plot(train['Close'])\n",
    "plt.plot(valid[['Close','Predictions']])\n",
    "plt.legend(['Train','Value','Predictions'])\n",
    "plt.show()"
   ]
  },
  {
   "cell_type": "code",
   "execution_count": null,
   "metadata": {},
   "outputs": [],
   "source": [
    "#Save the model\n",
    "\n",
    "model.save(f\"models/{name}.h5\")\n"
   ]
  },
  {
   "cell_type": "code",
   "execution_count": null,
   "metadata": {},
   "outputs": [],
   "source": [
    "#Save info of the training model in a json file\n",
    "\n",
    "import json \n",
    "def write_json(data, filename='data.json'): \n",
    "    with open(filename,'w') as f: \n",
    "        json.dump(data, f, indent=4) \n",
    "        \n",
    "with open('data.json') as json_file: \n",
    "    data = json.load(json_file) \n",
    "    temp = data['models'] \n",
    "\n",
    "    # python object to be appended \n",
    "    model = {\n",
    "        'corp':corp,\n",
    "        'name':name,\n",
    "        'startTraining':'2015-01-01',\n",
    "        'endTraining':endTraining,\n",
    "        'n_rows':n_rows,\n",
    "        'model':f\"{name}.h5\",\n",
    "        'rmse':rmse,\n",
    "    }\n",
    "\n",
    "    # appending data to emp_details  \n",
    "    temp.append(model) \n",
    "      \n",
    "write_json(data)  "
   ]
  },
  {
   "cell_type": "code",
   "execution_count": null,
   "metadata": {},
   "outputs": [],
   "source": []
  }
 ],
 "metadata": {
  "kernelspec": {
   "display_name": "Python 3",
   "language": "python",
   "name": "python3"
  },
  "language_info": {
   "codemirror_mode": {
    "name": "ipython",
    "version": 3
   },
   "file_extension": ".py",
   "mimetype": "text/x-python",
   "name": "python",
   "nbconvert_exporter": "python",
   "pygments_lexer": "ipython3",
   "version": "3.6.8"
  }
 },
 "nbformat": 4,
 "nbformat_minor": 4
}
